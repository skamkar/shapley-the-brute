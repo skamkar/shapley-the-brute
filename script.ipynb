{
 "cells": [
  {
   "cell_type": "code",
   "execution_count": 30,
   "metadata": {},
   "outputs": [],
   "source": [
    "import numpy as np\n",
    "import itertools\n",
    "import scipy.stats as stats"
   ]
  },
  {
   "cell_type": "markdown",
   "metadata": {},
   "source": [
    "### brute force shapley & linear mapping"
   ]
  },
  {
   "cell_type": "code",
   "execution_count": 48,
   "metadata": {},
   "outputs": [],
   "source": [
    "def shapley_mapping(f, x):\n",
    "    phi = np.zeros(len(x))\n",
    "    indx = np.arange(len(x))\n",
    "    n_coal = 0\n",
    "\n",
    "    # for each element of x\n",
    "    for count, value in enumerate(x):\n",
    "\n",
    "        # for each coalition size, 1:N\n",
    "        for c_size in np.arange(1,len(x)+1):\n",
    "\n",
    "            # for each coalition (within a specific size)\n",
    "            for c in itertools.combinations(indx, c_size):\n",
    "\n",
    "                # if element appears in coalition\n",
    "                c_list = list(c)\n",
    "                if count in c_list:\n",
    "                    c_list_drop = c_list.copy()\n",
    "                    c_list_drop.remove(count)\n",
    "                    phi[count] += f(x[c_list]) - f(x[c_list_drop])\n",
    "                    n_coal += 1\n",
    "\n",
    "    # scale by 1/2^(N-1)\n",
    "    return(phi * len(x) / n_coal)\n",
    "\n",
    "def linear_mapping(f, x):\n",
    "    delta_y = f(x) - f([])\n",
    "    scalar = delta_y / np.sum(x)\n",
    "    return(x*scalar)\n",
    "\n",
    "def run_comparison(x_len, N, f):\n",
    "    shap_case = np.array([])\n",
    "    linear_case = np.array([])\n",
    "\n",
    "    for n in np.arange(N):\n",
    "        x = stats.logistic.rvs(size=x_len)*.1        # dealer's choice\n",
    "        shap_case = np.append(shap_case, shapley_mapping(f, x))\n",
    "        linear_case = np.append(linear_case, linear_mapping(f, x))\n",
    "\n",
    "    return shap_case, linear_case"
   ]
  },
  {
   "cell_type": "markdown",
   "metadata": {},
   "source": [
    "### test case"
   ]
  },
  {
   "cell_type": "code",
   "execution_count": 49,
   "metadata": {},
   "outputs": [],
   "source": [
    "# function must be of type y = f(x); single input, single output\n",
    "def sigmoid(x):\n",
    "    return((1/(1+np.exp(-np.sum(x)))))\n",
    "\n",
    "x_len = 12         # size of x\n",
    "N = 100            # trials\n",
    "\n",
    "shap_vals, linear_vals = run_comparison(x_len, N, sigmoid)"
   ]
  },
  {
   "cell_type": "markdown",
   "metadata": {},
   "source": [
    "### plot result"
   ]
  },
  {
   "cell_type": "code",
   "execution_count": 59,
   "metadata": {},
   "outputs": [
    {
     "name": "stdout",
     "output_type": "stream",
     "text": [
      "Pearson R correlation score: 0.9999\n"
     ]
    },
    {
     "data": {
      "image/png": "[encoded data removed]",
      "text/plain": [
       "<matplotlib.figure.Figure at 0x10f65a1d0>"
      ]
     },
     "metadata": {},
     "output_type": "display_data"
    }
   ],
   "source": [
    "%matplotlib inline\n",
    "import matplotlib.pyplot as plt\n",
    "plt.style.use('seaborn-whitegrid')\n",
    "plt.plot(shap_case, linear_case, 'o', color='black');\n",
    "print(\"Pearson R correlation score: {:.4f}\".format(stats.stats.pearsonr(shap_vals,linear_vals)[0]))"
   ]
  }
 ],
 "metadata": {
  "kernelspec": {
   "display_name": "Python 3",
   "language": "python",
   "name": "python3"
  },
  "language_info": {
   "codemirror_mode": {
    "name": "ipython",
    "version": 3
   },
   "file_extension": ".py",
   "mimetype": "text/x-python",
   "name": "python",
   "nbconvert_exporter": "python",
   "pygments_lexer": "ipython3",
   "version": "3.5.3"
  }
 },
 "nbformat": 4,
 "nbformat_minor": 2
}
